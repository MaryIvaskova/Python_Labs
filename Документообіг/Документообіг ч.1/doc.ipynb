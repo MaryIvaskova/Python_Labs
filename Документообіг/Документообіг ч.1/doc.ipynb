{
 "cells": [
  {
   "cell_type": "code",
   "execution_count": null,
   "id": "ad7adb18",
   "metadata": {},
   "outputs": [],
   "source": [
    "# інтерфейс Document\n",
    "from abc import ABC, abstractmethod\n",
    "\n",
    "class Document(ABC):\n",
    "    @abstractmethod\n",
    "    def render(self) -> str:\n",
    "        pass\n",
    "\n",
    "#  документи\n",
    "class Report(Document):\n",
    "    def render(self) -> str:\n",
    "        return \"Report: аналітика та статистика\"\n",
    "\n",
    "class Invoice(Document):\n",
    "    def render(self) -> str:\n",
    "        return \"Invoice: рахунок-фактура\"\n",
    "\n",
    "class Contract(Document):\n",
    "    def render(self) -> str:\n",
    "        return \"Contract: офіційна угода\"\n",
    "#Як додати новий тип документа ось так Створити новий клас X(Document) з методом render(), і додати відповідний case у фабрику.\n",
    "# якщо невірний варіант\n",
    "class NullDocument(Document):\n",
    "    def render(self) -> str:\n",
    "        return \"Невідомий документ !\""
   ]
  },
  {
   "cell_type": "code",
   "execution_count": 2,
   "id": "00bf693d",
   "metadata": {},
   "outputs": [],
   "source": [
    "# фабрика\n",
    "class DocumentFactory:\n",
    "    @staticmethod\n",
    "    def create(doc_type: str) -> Document:\n",
    "        match doc_type.lower():\n",
    "            case \"report\":\n",
    "                return Report()\n",
    "            case \"invoice\":\n",
    "                return Invoice()\n",
    "            case \"contract\":\n",
    "                return Contract()\n",
    "            case _:\n",
    "                return NullDocument()"
   ]
  },
  {
   "cell_type": "code",
   "execution_count": null,
   "id": "ebe0e8a3",
   "metadata": {},
   "outputs": [
    {
     "name": "stdout",
     "output_type": "stream",
     "text": [
      "Report: аналітика та статистика\n",
      "Invoice: рахунок-фактура\n",
      "Contract: офіційна угода\n",
      "Невідомий документ\n"
     ]
    }
   ],
   "source": [
    "#  тут докумети які ми вносим\n",
    "docs = [\"report\", \"invoice\", \"contract\", \"mystery\"]\n",
    "\n",
    "for d in docs:\n",
    "    doc = DocumentFactory.create(d)\n",
    "    print(doc.render())"
   ]
  }
 ],
 "metadata": {
  "kernelspec": {
   "display_name": "Python 3",
   "language": "python",
   "name": "python3"
  },
  "language_info": {
   "codemirror_mode": {
    "name": "ipython",
    "version": 3
   },
   "file_extension": ".py",
   "mimetype": "text/x-python",
   "name": "python",
   "nbconvert_exporter": "python",
   "pygments_lexer": "ipython3",
   "version": "3.11.12"
  }
 },
 "nbformat": 4,
 "nbformat_minor": 5
}

{
 "cells": [
  {
   "cell_type": "code",
   "execution_count": null,
   "id": "0ac53bfb",
   "metadata": {},
   "outputs": [
    {
     "name": "stdout",
     "output_type": "stream",
     "text": [
      "0\n",
      "50.0\n"
     ]
    }
   ],
   "source": [
    "def calc_expr(expr):\n",
    "    expr = (expr or \"\").replace(\" \", \"\")\n",
    "    if not expr:\n",
    "        return 0\n",
    "\n",
    "    def prec(o):\n",
    "        return 1 if o in \"+-\" else 2 if o in \"*/\" else 0\n",
    "\n",
    "    def apply(a, b, o):\n",
    "        if o == \"+\": return a + b\n",
    "        if o == \"-\": return a - b\n",
    "        if o == \"*\": return a * b\n",
    "        if o == \"/\": return a / b if b != 0 else 0\n",
    "\n",
    "    vals, ops, i, n = [], [], 0, len(expr)\n",
    "    while i < n:\n",
    "        c = expr[i]\n",
    "        if c == \"(\":\n",
    "            ops.append(c); i += 1; continue\n",
    "        if c == \")\":\n",
    "            while ops and ops[-1] != \"(\":\n",
    "                b, a, o = vals.pop(), vals.pop(), ops.pop()\n",
    "                vals.append(apply(a, b, o))\n",
    "            if not ops: return \"Помилка\"\n",
    "            ops.pop(); i += 1; continue\n",
    "        if c == \"-\" and (i == 0 or expr[i-1] in \"(+-*/\"):\n",
    "            if i+1 < n and expr[i+1] == \"(\":\n",
    "                vals.append(0.0); ops.append(\"-\"); i += 1; continue\n",
    "            s, i = \"-\", i+1\n",
    "            dot = False\n",
    "            while i < n and (expr[i].isdigit() or expr[i] == \".\"):\n",
    "                if expr[i] == \".\" and dot: break\n",
    "                dot = dot or expr[i] == \".\"\n",
    "                s += expr[i]; i += 1\n",
    "            if s in {\"-\", \"-.\"}: return \"Помилка\"\n",
    "            try: vals.append(float(s))\n",
    "            except: return \"Помилка\"\n",
    "            continue\n",
    "        if c.isdigit() or c == \".\":\n",
    "            s, dot = \"\", False\n",
    "            while i < n and (expr[i].isdigit() or expr[i] == \".\"):\n",
    "                if expr[i] == \".\" and dot: break\n",
    "                dot = dot or expr[i] == \".\"\n",
    "                s += expr[i]; i += 1\n",
    "            if s in {\"\", \".\"}: return \"Помилка\"\n",
    "            try: vals.append(float(s))\n",
    "            except: return \"Помилка\"\n",
    "            continue\n",
    "        if c in \"+-*/\":\n",
    "            while ops and ops[-1] != \"(\" and prec(ops[-1]) >= prec(c):\n",
    "                b, a, o = vals.pop(), vals.pop(), ops.pop()\n",
    "                vals.append(apply(a, b, o))\n",
    "            ops.append(c); i += 1; continue\n",
    "        return \"Помилка\"\n",
    "\n",
    "    while ops:\n",
    "        if ops[-1] == \"(\": return \"Помилка\"\n",
    "        b, a, o = vals.pop(), vals.pop(), ops.pop()\n",
    "        vals.append(apply(a, b, o))\n",
    "\n",
    "    return vals[-1] if vals else 0\n",
    "\n",
    "\n",
    "while True:\n",
    "    s = input(\"Введи вираз (або exit): \")\n",
    "    if s == \"exit\":\n",
    "        break\n",
    "    print(calc_expr(s))"
   ]
  }
 ],
 "metadata": {
  "kernelspec": {
   "display_name": "Python 3",
   "language": "python",
   "name": "python3"
  },
  "language_info": {
   "codemirror_mode": {
    "name": "ipython",
    "version": 3
   },
   "file_extension": ".py",
   "mimetype": "text/x-python",
   "name": "python",
   "nbconvert_exporter": "python",
   "pygments_lexer": "ipython3",
   "version": "3.11.12"
  }
 },
 "nbformat": 4,
 "nbformat_minor": 5
}

{
 "cells": [
  {
   "cell_type": "code",
   "execution_count": 3,
   "id": "f6ffde39",
   "metadata": {},
   "outputs": [],
   "source": [
    "import random"
   ]
  },
  {
   "cell_type": "code",
   "execution_count": null,
   "id": "0ac53bfb",
   "metadata": {},
   "outputs": [
    {
     "name": "stdout",
     "output_type": "stream",
     "text": [
      "16.0\n"
     ]
    }
   ],
   "source": [
    "while True:\n",
    "    a = input(\"Перше число (або exit): \")\n",
    "    if a == \"exit\":\n",
    "        break\n",
    "    if not a.strip():\n",
    "        print(\"Введи число\")\n",
    "        continue\n",
    "\n",
    "    b = input(\"Друге число: \")\n",
    "    if not b.strip():\n",
    "        print(\"Введи число\")\n",
    "        continue\n",
    "\n",
    "    op = input(\"Операція (+, -, *, /): \")\n",
    "\n",
    "    try:\n",
    "        a = float(a)\n",
    "        b = float(b)\n",
    "    except ValueError:\n",
    "        print(\"Це не число\")\n",
    "        continue\n",
    "\n",
    "    if op == \"+\":\n",
    "        print(a + b)\n",
    "    elif op == \"-\":\n",
    "        print(a - b)\n",
    "    elif op == \"*\":\n",
    "        print(a * b)\n",
    "    elif op == \"/\":\n",
    "        print(a / b if b != 0 else 0)\n",
    "    else:\n",
    "        print(\"Невідома операція\")"
   ]
  }
 ],
 "metadata": {
  "kernelspec": {
   "display_name": "Python 3",
   "language": "python",
   "name": "python3"
  },
  "language_info": {
   "codemirror_mode": {
    "name": "ipython",
    "version": 3
   },
   "file_extension": ".py",
   "mimetype": "text/x-python",
   "name": "python",
   "nbconvert_exporter": "python",
   "pygments_lexer": "ipython3",
   "version": "3.11.12"
  }
 },
 "nbformat": 4,
 "nbformat_minor": 5
}
